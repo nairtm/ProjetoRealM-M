{
  "nbformat": 4,
  "nbformat_minor": 0,
  "metadata": {
    "colab": {
      "provenance": [],
      "include_colab_link": true
    },
    "kernelspec": {
      "name": "python3",
      "display_name": "Python 3"
    },
    "language_info": {
      "name": "python"
    }
  },
  "cells": [
    {
      "cell_type": "markdown",
      "metadata": {
        "id": "view-in-github",
        "colab_type": "text"
      },
      "source": [
        "<a href=\"https://colab.research.google.com/github/nairtm/ProjetoRealM-M/blob/main/Portf%C3%B3lio_Projeto_Final_M%26M_Grupo_3.ipynb\" target=\"_parent\"><img src=\"https://colab.research.google.com/assets/colab-badge.svg\" alt=\"Open In Colab\"/></a>"
      ]
    },
    {
      "cell_type": "code",
      "execution_count": null,
      "metadata": {
        "id": "glUuk-_3CoI8"
      },
      "outputs": [],
      "source": [
        "import pandas as pd\n",
        "from statistics import mean\n",
        "from scipy.stats import ttest_ind\n",
        "import numpy as np"
      ]
    },
    {
      "cell_type": "markdown",
      "source": [
        "# Carregamento da Base de Dados"
      ],
      "metadata": {
        "id": "YKPR-N1tE0OW"
      }
    },
    {
      "cell_type": "markdown",
      "source": [
        "## Perfil M&M ID"
      ],
      "metadata": {
        "id": "JCOukWvkDo8O"
      }
    },
    {
      "cell_type": "code",
      "source": [
        "#perfil_id = pd.read_csv('DADOS OCULTOS')\n",
        "display(perfil_id)"
      ],
      "metadata": {
        "id": "o6-F1CP_Dp0Q"
      },
      "execution_count": null,
      "outputs": []
    },
    {
      "cell_type": "markdown",
      "source": [
        "## Eventos"
      ],
      "metadata": {
        "id": "3oEIXpWjD-XZ"
      }
    },
    {
      "cell_type": "code",
      "source": [
        "#eventos = pd.read_csv('DADOS OCULTOS')\n",
        "display(eventos)"
      ],
      "metadata": {
        "id": "nq86OpMIDs-h"
      },
      "execution_count": null,
      "outputs": []
    },
    {
      "cell_type": "markdown",
      "source": [
        "## Portfólio de agências"
      ],
      "metadata": {
        "id": "J3sflCqeENqm"
      }
    },
    {
      "cell_type": "code",
      "source": [
        "#agencias = pd.read_csv('DADOS OCULTOS')\n",
        "display(agencias)"
      ],
      "metadata": {
        "id": "3bvvPZBPDswG"
      },
      "execution_count": null,
      "outputs": []
    },
    {
      "cell_type": "markdown",
      "source": [
        "## Administradores"
      ],
      "metadata": {
        "id": "69AmRCCdEZYr"
      }
    },
    {
      "cell_type": "code",
      "source": [
        "#administradores = pd.read_csv('DADOS OCULTOS')\n",
        "display(administradores)"
      ],
      "metadata": {
        "id": "qAFRg0GiDtZZ"
      },
      "execution_count": null,
      "outputs": []
    },
    {
      "cell_type": "markdown",
      "source": [
        "## Digital Pass"
      ],
      "metadata": {
        "id": "O9zbwRg6EeN4"
      }
    },
    {
      "cell_type": "code",
      "source": [
        "#digitalpass = pd.read_csv('DADOS OCULTOS')\n",
        "display(digitalpass)"
      ],
      "metadata": {
        "id": "fKUkty3ADt0M"
      },
      "execution_count": null,
      "outputs": []
    },
    {
      "cell_type": "markdown",
      "source": [
        "## Webinar"
      ],
      "metadata": {
        "id": "-sH8RrJiEop0"
      }
    },
    {
      "cell_type": "code",
      "source": [
        "#webinar = pd.read_csv('DADOS OCULTOS')\n",
        "display(webinar)"
      ],
      "metadata": {
        "id": "95gMnSvQDucf"
      },
      "execution_count": null,
      "outputs": []
    },
    {
      "cell_type": "markdown",
      "source": [
        "## Acervo"
      ],
      "metadata": {
        "id": "efGnkqhKEu9I"
      }
    },
    {
      "cell_type": "code",
      "source": [
        "#acervo = pd.read_csv('DADOS OCULTOS')\n",
        "display(acervo)"
      ],
      "metadata": {
        "id": "hYsxuUg_DvPC",
        "collapsed": true
      },
      "execution_count": null,
      "outputs": []
    },
    {
      "cell_type": "markdown",
      "source": [
        "# Tratamento das Tabelas"
      ],
      "metadata": {
        "id": "qYLAJYeOFUB8"
      }
    },
    {
      "cell_type": "markdown",
      "source": [
        "## Perfil ID"
      ],
      "metadata": {
        "id": "dNPqjnZuGzHn"
      }
    },
    {
      "cell_type": "markdown",
      "source": [
        "###Renomeando"
      ],
      "metadata": {
        "id": "xqKFZnIVN2qh"
      }
    },
    {
      "cell_type": "code",
      "source": [
        "perfil_id.rename(columns={'Segmento Empresa':'segmento_empresa',\n",
        "                          'Área Atuação': 'area_atuacao',\n",
        "                          'Assinatura': 'assinatura',\n",
        "                          'Assina M&M News': 'assina_mm_news',\n",
        "                          'Assina Port. Agências': 'assina_port_agencias',\n",
        "                          'Assina W2W': 'assina_w2w',\n",
        "                          'Assina M&M Negócios': 'assina_mm_negocios'},inplace=True)\n"
      ],
      "metadata": {
        "id": "3nrLzndFFh_6"
      },
      "execution_count": null,
      "outputs": []
    },
    {
      "cell_type": "markdown",
      "source": [
        "###Resetando Índice"
      ],
      "metadata": {
        "id": "sPC6r29gN_OU"
      }
    },
    {
      "cell_type": "code",
      "source": [
        "perfil_id = perfil_id.drop(columns=['Unnamed: 0'])"
      ],
      "metadata": {
        "id": "HkwNiwFoLmS_"
      },
      "execution_count": null,
      "outputs": []
    },
    {
      "cell_type": "markdown",
      "source": [
        "## Eventos"
      ],
      "metadata": {
        "id": "DDgpD6isG_xw"
      }
    },
    {
      "cell_type": "markdown",
      "source": [
        "###Renomeando"
      ],
      "metadata": {
        "id": "VsMxCXFeOJxl"
      }
    },
    {
      "cell_type": "code",
      "source": [
        "eventos.rename(columns={'Tipo':'tipo','Tipo Participação': 'tipo_participacao',\n",
        "                                            'Situação Convite': 'situacao_convite',\n",
        "                                            'Cargo': 'cargo','Nível Hierarquico': 'nivel_hierarquico',\n",
        "                                            'Área Atuação': 'area_atuacao',\n",
        "                                            'Segmento Empresa':'segmento_empresa',\n",
        "                                            'Efetuou CheckIn?':'efetuou_checkin',\n",
        "                                            'Mesa': 'mesa','M&MID': 'id',\n",
        "                                            'Assinante?': 'assinante',},inplace=True)\n"
      ],
      "metadata": {
        "id": "nUqS6YNTHDS5"
      },
      "execution_count": null,
      "outputs": []
    },
    {
      "cell_type": "markdown",
      "source": [
        "###Resetando Índice"
      ],
      "metadata": {
        "id": "nBWMnxJtOPOY"
      }
    },
    {
      "cell_type": "code",
      "source": [
        "eventos = eventos.drop(columns=['Unnamed: 0'])"
      ],
      "metadata": {
        "id": "T8vqRzqXLPUV"
      },
      "execution_count": null,
      "outputs": []
    },
    {
      "cell_type": "markdown",
      "source": [
        "## Administradores"
      ],
      "metadata": {
        "id": "7TWPF9H2Hw-Q"
      }
    },
    {
      "cell_type": "markdown",
      "source": [
        "###Renomeando"
      ],
      "metadata": {
        "id": "M_bzdr9-Ofx9"
      }
    },
    {
      "cell_type": "code",
      "source": [
        "administradores.rename(columns={'mmid':'id','Cod. Assinante Voto':'cod_assinante_voto',\n",
        "                                                         'Cargo': 'cargo','Empresa MMID':'empresa_mm_id',\n",
        "                                                         'Empresa Assinatura':'empresa_assinatura',\n",
        "                                                         'Área Atuação': 'area_atuacao',\n",
        "                                                         'Segmento Empresa':'segmento_empresa','Data Login':'data_login',\n",
        "                                                         'Nome Fantasia Assinatura':'nome_fantasia_empresa',\n",
        "                                                         'Data Voto':'data_voto','Edição Evento':'edicao_evento'},inplace=True)"
      ],
      "metadata": {
        "id": "58t_TI-LGEOm"
      },
      "execution_count": null,
      "outputs": []
    },
    {
      "cell_type": "markdown",
      "source": [
        "###Resetando Índice"
      ],
      "metadata": {
        "id": "fjigmdTxOj5O"
      }
    },
    {
      "cell_type": "code",
      "source": [
        "administradores = administradores.drop(columns=['Unnamed: 0'])"
      ],
      "metadata": {
        "id": "ZnwP-QLLOt-M"
      },
      "execution_count": null,
      "outputs": []
    },
    {
      "cell_type": "code",
      "source": [
        "administradores['data_login'] = pd.to_datetime(administradores['data_login'], errors='coerce')\n",
        "administradores['data_voto'] = pd.to_datetime(administradores['data_voto'], errors='coerce')\n"
      ],
      "metadata": {
        "id": "wH58crZhQM-9"
      },
      "execution_count": null,
      "outputs": []
    },
    {
      "cell_type": "markdown",
      "source": [
        "## Webinar"
      ],
      "metadata": {
        "id": "Zed9-8ISJLdf"
      }
    },
    {
      "cell_type": "markdown",
      "source": [
        "###Renomeando"
      ],
      "metadata": {
        "id": "AlW8xAT_PlLY"
      }
    },
    {
      "cell_type": "code",
      "source": [
        "webinar.rename(columns={'areaAtuacao':'area_atuacao',\n",
        "                                            'seguimentoEmpresa': 'segmento_empresa',\n",
        "                                            'mmid':'id'},inplace=True)"
      ],
      "metadata": {
        "id": "Po0XVhSyI5Mc"
      },
      "execution_count": null,
      "outputs": []
    },
    {
      "cell_type": "markdown",
      "source": [
        "###Resetando Índice"
      ],
      "metadata": {
        "id": "EzCdCik5PpPw"
      }
    },
    {
      "cell_type": "code",
      "source": [
        "webinar = webinar.drop(columns=['Unnamed: 0'])"
      ],
      "metadata": {
        "id": "3ZbE2VaMQcvP"
      },
      "execution_count": null,
      "outputs": []
    },
    {
      "cell_type": "markdown",
      "source": [
        "## Acervo"
      ],
      "metadata": {
        "id": "1ERKwbWXKDBr"
      }
    },
    {
      "cell_type": "markdown",
      "source": [
        "###Renomeando"
      ],
      "metadata": {
        "id": "zmvX7zhoPucv"
      }
    },
    {
      "cell_type": "code",
      "source": [
        "acervo.rename(columns={'Visualizações':'visualizacoes',\n",
        "                                          'Páginas Lidas': 'paginas_lidas',\n",
        "                                          'Visualizações Únicas': 'visualizacoes_unicas'},inplace=True)\n"
      ],
      "metadata": {
        "id": "jTlST4xGJ7_I"
      },
      "execution_count": null,
      "outputs": []
    },
    {
      "cell_type": "markdown",
      "source": [
        "###Resetando Índice"
      ],
      "metadata": {
        "id": "iE4oxhkNPxoC"
      }
    },
    {
      "cell_type": "code",
      "source": [
        "acervo = acervo.drop(columns=['Unnamed: 0'])"
      ],
      "metadata": {
        "id": "CZRZ1ZyCQmbr"
      },
      "execution_count": null,
      "outputs": []
    },
    {
      "cell_type": "markdown",
      "source": [
        "## Digital Pass"
      ],
      "metadata": {
        "id": "DVUbow_pKOn0"
      }
    },
    {
      "cell_type": "markdown",
      "source": [
        "###Renomeando"
      ],
      "metadata": {
        "id": "UTNtiDgYP01x"
      }
    },
    {
      "cell_type": "code",
      "source": [
        "digitalpass.rename(columns={'mmid':'id'},inplace=True)"
      ],
      "metadata": {
        "id": "HsUbiPhOKOPA"
      },
      "execution_count": null,
      "outputs": []
    },
    {
      "cell_type": "markdown",
      "source": [
        "###Resetando Índice"
      ],
      "metadata": {
        "id": "buFiBfd1P3zH"
      }
    },
    {
      "cell_type": "code",
      "source": [
        "digitalpass = digitalpass.drop(columns=['Unnamed: 0'])"
      ],
      "metadata": {
        "id": "Qr1II6j5RDOb"
      },
      "execution_count": null,
      "outputs": []
    },
    {
      "cell_type": "code",
      "source": [
        "# Transformando as datas em pd.DateTime\n",
        "\n",
        "digitalpass['data_ultima_atualizacao_realizada'] = pd.to_datetime(digitalpass['data_ultima_atualizacao_realizada'], errors='coerce')\n"
      ],
      "metadata": {
        "id": "tRej8UZSRLBN"
      },
      "execution_count": null,
      "outputs": []
    },
    {
      "cell_type": "markdown",
      "source": [
        "# Separando Assinantes de Não Assinantes"
      ],
      "metadata": {
        "id": "frAGNO3fs6Ti"
      }
    },
    {
      "cell_type": "markdown",
      "source": [
        "#### Assinantes"
      ],
      "metadata": {
        "id": "W9Kw4vV3q4tz"
      }
    },
    {
      "cell_type": "code",
      "source": [
        "assinantes = perfil_id[perfil_id['assinatura'] != 'Sem Assinatura']\n",
        "display(assinantes)"
      ],
      "metadata": {
        "id": "KLoPF24eFqSN"
      },
      "execution_count": null,
      "outputs": []
    },
    {
      "cell_type": "markdown",
      "source": [
        "#### Não Assinantes"
      ],
      "metadata": {
        "id": "TXuGfem5rNl6"
      }
    },
    {
      "cell_type": "code",
      "source": [
        "nao_assinantes = perfil_id[perfil_id['assinatura'] == 'Sem Assinatura']\n",
        "display(nao_assinantes)"
      ],
      "metadata": {
        "id": "Ttin0KBZo1Go"
      },
      "execution_count": null,
      "outputs": []
    },
    {
      "cell_type": "markdown",
      "source": [
        "## Total"
      ],
      "metadata": {
        "id": "4Sh3efU7n6k8"
      }
    },
    {
      "cell_type": "markdown",
      "source": [
        "### Joins"
      ],
      "metadata": {
        "id": "gGKdfxPhApti"
      }
    },
    {
      "cell_type": "code",
      "source": [
        "perfil_id_webinar = pd.merge(\n",
        "    perfil_id,\n",
        "    webinar,\n",
        "    on=['id', 'cargo', 'segmento_empresa', 'area_atuacao'],\n",
        "    how='inner'\n",
        ")\n",
        "display(perfil_id_webinar)"
      ],
      "metadata": {
        "id": "8cBbRvqx2etQ"
      },
      "execution_count": null,
      "outputs": []
    },
    {
      "cell_type": "code",
      "source": [
        "perfil_id_eventos = pd.merge(\n",
        "    perfil_id,\n",
        "    eventos,\n",
        "    on=['id', 'cargo', 'segmento_empresa', 'area_atuacao'],\n",
        "    how='inner'\n",
        ")\n",
        "display(perfil_id_eventos)"
      ],
      "metadata": {
        "id": "8nncJ2R3YYaf"
      },
      "execution_count": null,
      "outputs": []
    },
    {
      "cell_type": "code",
      "source": [
        "from IPython.display import display\n",
        "import pandas as pd\n",
        "\n",
        "# Inner Join - Perfil e Administradores\n",
        "join_perfil_adm = pd.merge(perfil_id, administradores, on=['id', 'cargo', 'segmento_empresa', 'area_atuacao'], how='inner')\n",
        "display(join_perfil_adm.head())"
      ],
      "metadata": {
        "id": "Er_pUroQA4pF"
      },
      "execution_count": null,
      "outputs": []
    },
    {
      "cell_type": "code",
      "source": [
        "perfil_id_digitalpass = pd.merge(\n",
        "    perfil_id,\n",
        "    digitalpass,\n",
        "    on=['id','cargo','segmento_empresa', 'area_atuacao'],\n",
        "    how='inner'\n",
        ")\n",
        "display(perfil_id_digitalpass)"
      ],
      "metadata": {
        "id": "b1EljgQ1A9GN"
      },
      "execution_count": null,
      "outputs": []
    },
    {
      "cell_type": "markdown",
      "source": [
        "###Gráfico"
      ],
      "metadata": {
        "id": "_6Fw5mqmDwAR"
      }
    },
    {
      "cell_type": "code",
      "source": [
        "import matplotlib.pyplot as plt\n",
        "import seaborn as sns\n",
        "\n",
        "# Contagem de cargos\n",
        "cargo_counts = join_perfil_adm['cargo'].value_counts()\n",
        "\n",
        "# Gráfico de barras\n",
        "plt.figure(figsize=(12, 6))\n",
        "sns.barplot(x=cargo_counts.index, y=cargo_counts.values, palette='viridis')\n",
        "plt.title('Distribuição de Cargos')\n",
        "plt.xlabel('Cargo')\n",
        "plt.ylabel('Contagem')\n",
        "plt.xticks(rotation=45)\n",
        "plt.show()\n"
      ],
      "metadata": {
        "id": "MZQrtvEgD1jQ"
      },
      "execution_count": null,
      "outputs": []
    },
    {
      "cell_type": "markdown",
      "source": [
        "# INSIGHTS"
      ],
      "metadata": {
        "id": "nTYj5EKbZBF5"
      }
    },
    {
      "cell_type": "markdown",
      "source": [
        "### 1 - Total de usuários do banco de dados fornecido pela M&M."
      ],
      "metadata": {
        "id": "Qsmbye57jOeu"
      }
    },
    {
      "cell_type": "code",
      "source": [
        "perfil_id['id'].count()"
      ],
      "metadata": {
        "id": "7bLn-7x1kJOo"
      },
      "execution_count": null,
      "outputs": []
    },
    {
      "cell_type": "markdown",
      "source": [
        "### 2 - Quantos usuários são assinantes e não assinantes?"
      ],
      "metadata": {
        "id": "8QYm2-3kkfA9"
      }
    },
    {
      "cell_type": "code",
      "source": [
        "contagem_nao_assinantes = nao_assinantes.shape[0]\n",
        "print(f\"Quantidade de não assinantes: {contagem_nao_assinantes}\")"
      ],
      "metadata": {
        "id": "ZfrFN4JplkTp"
      },
      "execution_count": null,
      "outputs": []
    },
    {
      "cell_type": "code",
      "source": [
        "contagem_assinantes = assinantes.shape[0]  # Conta o número de linhas no DataFrame\n",
        "print(f\"Quantidade de assinantes: {contagem_assinantes}\")"
      ],
      "metadata": {
        "id": "7X9pZ0PHlyQM"
      },
      "execution_count": null,
      "outputs": []
    },
    {
      "cell_type": "code",
      "source": [
        "import matplotlib.pyplot as plt\n",
        "\n",
        "# Separando assinantes e não assinantes\n",
        "assinantes = perfil_id[perfil_id['assinatura'] != 'Sem Assinatura']\n",
        "nao_assinantes = perfil_id[perfil_id['assinatura'] == 'Sem Assinatura']\n",
        "\n",
        "# Calculando os totais\n",
        "quantidades = [len(assinantes), len(nao_assinantes)]\n",
        "labels = ['Assinantes', 'Não Assinantes']\n",
        "\n",
        "# Criando o gráfico de pizza\n",
        "plt.figure(figsize=(8, 8))\n",
        "plt.pie(quantidades, labels=labels, autopct='%1.1f%%', startangle=90, colors=['#66b3ff', '#ff9999'])\n",
        "plt.title('Proporção de Assinantes e Não Assinantes', fontsize=16)\n",
        "plt.axis('equal')  # Para garantir que o gráfico fique circular\n",
        "\n",
        "# Exibindo o gráfico\n",
        "plt.show()"
      ],
      "metadata": {
        "id": "A6VPeRlukrVk"
      },
      "execution_count": null,
      "outputs": []
    },
    {
      "cell_type": "markdown",
      "source": [
        "### 3 - Entre os assinantes, os 3 perfis que mais se destacam: LIDERANÇA CORPORATIVA, PROFISSIONAL INDIVIDUAL E PROFISSIONAL"
      ],
      "metadata": {
        "id": "s8ODqO-lmKlZ"
      }
    },
    {
      "cell_type": "code",
      "source": [
        "# Total de Assinantes agrupados por tipo de Assinatura:\n",
        "tot_assinantes_ass = assinantes[['id','assinatura']].groupby('assinatura').count()\n",
        "display(tot_assinantes_ass)"
      ],
      "metadata": {
        "id": "y6FV8ymmmRhZ"
      },
      "execution_count": null,
      "outputs": []
    },
    {
      "cell_type": "code",
      "source": [
        "import matplotlib.pyplot as plt\n",
        "assinatura_counts = assinantes.groupby('assinatura')['id'].count()\n",
        "# gráfico de pizza\n",
        "plt.figure(figsize=(8, 8))\n",
        "plt.pie(\n",
        "    assinatura_counts,\n",
        "    labels=assinatura_counts.index,\n",
        "    autopct='%1.2f%%',\n",
        "    startangle=90,\n",
        "    colors=plt.cm.Paired.colors\n",
        ")\n",
        "# configuração do gráfico\n",
        "plt.title('Distribuição dos Tipos de Assinatura', fontsize=14)\n",
        "plt.tight_layout()\n",
        "plt.show()"
      ],
      "metadata": {
        "id": "WqeSmeY7mexk"
      },
      "execution_count": null,
      "outputs": []
    },
    {
      "cell_type": "markdown",
      "source": [
        "### 4 - Entre os assinantes, os cargos que mais se destacam:"
      ],
      "metadata": {
        "id": "bsLfLji8mykA"
      }
    },
    {
      "cell_type": "code",
      "source": [
        "tot_nao_assinantes_cargo = assinantes[['cargo','assinatura']].groupby('cargo').count().sort_values(by='assinatura', ascending=False)\n",
        "display(tot_nao_assinantes_cargo)"
      ],
      "metadata": {
        "id": "8a-09qrhS79o"
      },
      "execution_count": null,
      "outputs": []
    },
    {
      "cell_type": "code",
      "source": [
        "# Cargos dos Não Assinantes\n",
        "\n",
        "import matplotlib.pyplot as plt\n",
        "\n",
        "# Preparando os dados\n",
        "assinatura_counts = nao_assinantes.groupby('cargo')['cargo'].count().sort_values(ascending=False)\n",
        "\n",
        "# Criando o gráfico de barras\n",
        "plt.figure(figsize=(10, 6))\n",
        "assinatura_counts.plot(\n",
        "    kind='bar',\n",
        "    color='skyblue',\n",
        "    edgecolor='black'\n",
        ")\n",
        "\n",
        "# Configuração do gráfico\n",
        "plt.title('Distribuição dos Cargos dos Não Assinantes', fontsize=14)\n",
        "plt.xlabel('Cargo', fontsize=12)\n",
        "plt.ylabel('Quantidade de Não Assinantes', fontsize=12)\n",
        "plt.xticks(rotation=45, fontsize=10)\n",
        "plt.grid(axis='y', linestyle='--', alpha=0.7)\n",
        "plt.tight_layout()\n",
        "\n",
        "# Exibindo o gráfico\n",
        "plt.show()"
      ],
      "metadata": {
        "id": "hqlHgRE2THMK"
      },
      "execution_count": null,
      "outputs": []
    },
    {
      "cell_type": "code",
      "source": [
        "tot_assinantes_cargo = assinantes[['cargo','assinatura']].groupby('cargo').count().sort_values(by='assinatura', ascending=False)\n",
        "display(tot_assinantes_cargo)"
      ],
      "metadata": {
        "id": "wOHNSrlUm46e"
      },
      "execution_count": null,
      "outputs": []
    },
    {
      "cell_type": "code",
      "source": [
        "# Cargos dos Assinantes\n",
        "\n",
        "import matplotlib.pyplot as plt\n",
        "\n",
        "# Preparando os dados\n",
        "assinatura_counts = assinantes.groupby('cargo')['cargo'].count().sort_values(ascending=False)\n",
        "\n",
        "# Criando o gráfico de barras\n",
        "plt.figure(figsize=(10, 6))\n",
        "assinatura_counts.plot(\n",
        "    kind='bar',\n",
        "    color='skyblue',\n",
        "    edgecolor='black'\n",
        ")\n",
        "\n",
        "# Configuração do gráfico\n",
        "plt.title('Distribuição dos Cargos dos Assinantes', fontsize=14)\n",
        "plt.xlabel('Cargo', fontsize=12)\n",
        "plt.ylabel('Quantidade de Assinantes', fontsize=12)\n",
        "plt.xticks(rotation=45, fontsize=10)\n",
        "plt.grid(axis='y', linestyle='--', alpha=0.7)\n",
        "plt.tight_layout()\n",
        "\n",
        "# Exibindo o gráfico\n",
        "plt.show()"
      ],
      "metadata": {
        "id": "_oRYSAEpnDHS"
      },
      "execution_count": null,
      "outputs": []
    },
    {
      "cell_type": "markdown",
      "source": [
        "### 4.1 - Entre os assinantes, os segmentos que mais se destacam:"
      ],
      "metadata": {
        "id": "_VAlIvOrnWvl"
      }
    },
    {
      "cell_type": "code",
      "source": [
        "tot_assinantes_segmento = assinantes[['segmento_empresa','assinatura']].groupby('segmento_empresa').count().sort_values(by='assinatura', ascending=False)\n",
        "display(tot_assinantes_segmento)"
      ],
      "metadata": {
        "id": "ESM1BFGQnaXK"
      },
      "execution_count": null,
      "outputs": []
    },
    {
      "cell_type": "code",
      "source": [
        "import matplotlib.pyplot as plt\n",
        "\n",
        "# Preparando os dados\n",
        "assinatura_counts = assinantes.groupby('segmento_empresa')['segmento_empresa'].count().sort_values(ascending=False)\n",
        "\n",
        "# Criando o gráfico de barras\n",
        "plt.figure(figsize=(10, 6))\n",
        "assinatura_counts.plot(\n",
        "    kind='bar',\n",
        "    color='skyblue',\n",
        "    edgecolor='black'\n",
        ")\n",
        "\n",
        "# Configuração do gráfico\n",
        "plt.title('Segmentos dos Assinantes', fontsize=14)\n",
        "plt.xlabel('Segmento Empresa', fontsize=12)\n",
        "plt.ylabel('Quantidade de Assinantes', fontsize=12)\n",
        "plt.xticks(rotation=90, fontsize=8)\n",
        "plt.grid(axis='y', linestyle='--', alpha=0.7)\n",
        "plt.tight_layout()\n",
        "\n",
        "# Exibindo o gráfico\n",
        "plt.show()"
      ],
      "metadata": {
        "id": "aF23CrLXnlfw"
      },
      "execution_count": null,
      "outputs": []
    },
    {
      "cell_type": "markdown",
      "source": [
        "### 4.2 - Entre os assinantes, a Área de Atuação que mais se destaca:"
      ],
      "metadata": {
        "id": "HGGBMCdanyw_"
      }
    },
    {
      "cell_type": "code",
      "source": [
        "tot_assinantes_area = assinantes[['area_atuacao','assinatura']].groupby('area_atuacao').count().sort_values(by='assinatura', ascending=False)\n",
        "display(tot_assinantes_area)"
      ],
      "metadata": {
        "id": "Ix92Vedvn9sP"
      },
      "execution_count": null,
      "outputs": []
    },
    {
      "cell_type": "code",
      "source": [
        "import matplotlib.pyplot as plt\n",
        "\n",
        "# Preparando os dados\n",
        "assinatura_counts = assinantes.groupby('area_atuacao')['area_atuacao'].count().sort_values(ascending=False)\n",
        "\n",
        "# Criando o gráfico de barras\n",
        "plt.figure(figsize=(10, 6))\n",
        "assinatura_counts.plot(\n",
        "    kind='bar',\n",
        "    color='skyblue',\n",
        "    edgecolor='black'\n",
        ")\n",
        "\n",
        "# Configuração do gráfico\n",
        "plt.title('Área de Atuação dos Assinantes', fontsize=14)\n",
        "plt.xlabel('Área de Atuação', fontsize=12)\n",
        "plt.ylabel('Quantidade de Assinantes', fontsize=12)\n",
        "plt.xticks(rotation=90, fontsize=8)\n",
        "plt.grid(axis='y', linestyle='--', alpha=0.7)\n",
        "plt.tight_layout()\n",
        "\n",
        "# Exibindo o gráfico\n",
        "plt.show()"
      ],
      "metadata": {
        "id": "V-i68B2VpGVl"
      },
      "execution_count": null,
      "outputs": []
    },
    {
      "cell_type": "markdown",
      "source": [
        "### 5 - Quais conteúdos são mais acessados pelos ASSINANTES e pelos NÃO ASSINANTES?"
      ],
      "metadata": {
        "id": "mrTvTtHVqz1y"
      }
    },
    {
      "cell_type": "markdown",
      "source": [
        "#### Assinantes"
      ],
      "metadata": {
        "id": "0lnLi_CEtwRX"
      }
    },
    {
      "cell_type": "code",
      "source": [
        "categoria_cadastrados_assinantes = assinantes[['assina_mm_news','assina_port_agencias', 'assina_w2w', 'assina_mm_negocios']] \\\n",
        "    .apply(lambda x: x == 'Sim').sum().sort_values(ascending=False)\n",
        "\n",
        "display(categoria_cadastrados_assinantes)"
      ],
      "metadata": {
        "id": "WA3Jx3Q8tuO1"
      },
      "execution_count": null,
      "outputs": []
    },
    {
      "cell_type": "code",
      "source": [
        "import matplotlib.pyplot as plt\n",
        "\n",
        "# Reset the index of revistas to create a column named 'assinatura'\n",
        "categoria_cadastrados_assinantes = categoria_cadastrados_assinantes.reset_index(name='total')\n",
        "\n",
        "# Now you can group by 'index' which contains the names of the subscriptions\n",
        "assinatura_counts = categoria_cadastrados_assinantes.groupby('index')['total'].sum()\n",
        "\n",
        "# Creating the pie chart\n",
        "plt.figure(figsize=(8, 8))\n",
        "plt.pie(\n",
        "    assinatura_counts,\n",
        "    labels=assinatura_counts.index,\n",
        "    autopct='%1.2f%%',\n",
        "    startangle=90,\n",
        "    colors=plt.cm.Paired.colors\n",
        ")\n",
        "# Setting the chart title\n",
        "plt.title('Distribuição das Categorias de Cadastrados Assinantes', fontsize=14)\n",
        "plt.tight_layout()\n",
        "plt.show()"
      ],
      "metadata": {
        "id": "41pgxHzGtz89"
      },
      "execution_count": null,
      "outputs": []
    },
    {
      "cell_type": "markdown",
      "source": [
        "#### Não Assinantes"
      ],
      "metadata": {
        "id": "ZLonpyQxuCUw"
      }
    },
    {
      "cell_type": "code",
      "source": [
        "categoria_cadastrados_nao_assinantes = nao_assinantes[['assina_mm_news','assina_port_agencias', 'assina_w2w', 'assina_mm_negocios']] \\\n",
        "    .apply(lambda x: x == 'Sim').sum().sort_values(ascending=False)\n",
        "\n",
        "display(categoria_cadastrados_nao_assinantes)"
      ],
      "metadata": {
        "id": "mrQ52P8EuElI"
      },
      "execution_count": null,
      "outputs": []
    },
    {
      "cell_type": "code",
      "source": [
        "import matplotlib.pyplot as plt\n",
        "\n",
        "# Reset the index of revistas to create a column named 'assinatura'\n",
        "categoria_cadastrados_nao_assinantes = categoria_cadastrados_nao_assinantes.reset_index(name='total')\n",
        "\n",
        "# Now you can group by 'index' which contains the names of the subscriptions\n",
        "assinatura_counts = categoria_cadastrados_nao_assinantes.groupby('index')['total'].sum()\n",
        "\n",
        "# Creating the pie chart\n",
        "plt.figure(figsize=(8, 8))\n",
        "plt.pie(\n",
        "    assinatura_counts,\n",
        "    labels=assinatura_counts.index,\n",
        "    autopct='%1.2f%%',\n",
        "    startangle=90,\n",
        "    colors=plt.cm.Paired.colors\n",
        ")\n",
        "# Setting the chart title\n",
        "plt.title('Distribuição das Categorias de Cadastrados Não Assinantes', fontsize=14)\n",
        "plt.tight_layout()\n",
        "plt.show()"
      ],
      "metadata": {
        "id": "FYsArNlyuZei"
      },
      "execution_count": null,
      "outputs": []
    },
    {
      "cell_type": "markdown",
      "source": [
        "### Informações acerca dos NÃO ASSINANTES:"
      ],
      "metadata": {
        "id": "BET-D-nlwp0E"
      }
    },
    {
      "cell_type": "markdown",
      "source": [
        "#### 6 - Qual o total de participações em eventos?"
      ],
      "metadata": {
        "id": "q45tyBqRxn_o"
      }
    },
    {
      "cell_type": "code",
      "source": [
        "tot_eventos = eventos.shape\n",
        "tot_eventos"
      ],
      "metadata": {
        "id": "afbABQ3ix4Mz"
      },
      "execution_count": null,
      "outputs": []
    },
    {
      "cell_type": "markdown",
      "source": [
        "#### 6.1 - quantos participantes dos eventos possuem um MMId (cadastro)? R: 22.328"
      ],
      "metadata": {
        "id": "pxPMDORiyl1g"
      }
    },
    {
      "cell_type": "code",
      "source": [
        "com_cadastro = eventos['id'].count()\n",
        "com_cadastro"
      ],
      "metadata": {
        "id": "giYKOcwYywOw"
      },
      "execution_count": null,
      "outputs": []
    },
    {
      "cell_type": "code",
      "source": [
        "sem_cadastro = eventos['id'].isna().sum()\n",
        "display(sem_cadastro)"
      ],
      "metadata": {
        "id": "ekSc7ZWuy71g"
      },
      "execution_count": null,
      "outputs": []
    },
    {
      "cell_type": "code",
      "source": [
        "# Contar participantes com ID\n",
        "com_id = eventos['id'].count()\n",
        "\n",
        "# Contar participantes sem ID\n",
        "sem_id = eventos['id'].isna().sum()\n",
        "\n",
        "# Criar DataFrame com os resultados\n",
        "total_participantes = pd.DataFrame({\n",
        "    'Categoria': ['Com ID', 'Sem ID'],\n",
        "    'Quantidade': [com_id, sem_id]\n",
        "})\n",
        "\n",
        "# Exibir o DataFrame\n",
        "display(total_participantes)\n",
        "\n",
        "# Configurar o gráfico de pizza\n",
        "plt.figure(figsize=(8, 8))\n",
        "plt.pie(\n",
        "    total_participantes['Quantidade'],\n",
        "    labels=total_participantes['Categoria'],\n",
        "autopct='%1.1f%%',  # Mostra os valores em porcentagem\n",
        "    startangle=90,      # Começa o gráfico a partir de 90 graus\n",
        "    colors=['#4CAF50', '#FFC107'],  # Definir cores personalizadas\n",
        "    explode=(0.1, 0)  # Destacar a fatia 'Com ID'\n",
        ")\n",
        "\n",
        "# Configurações do título\n",
        "plt.title('Distribuição de Convidados para Eventos MM (Com e Sem ID)', fontsize=16)\n",
        "plt.tight_layout()\n",
        "\n",
        "# Exibir o gráfico\n",
        "plt.show()"
      ],
      "metadata": {
        "id": "8l5xBjV0RWTC"
      },
      "execution_count": null,
      "outputs": []
    },
    {
      "cell_type": "markdown",
      "source": [
        "#### 6.2 - Quais informações temos acerca desses participantes que não fizeram o cadastro(MMId) ?"
      ],
      "metadata": {
        "id": "GfzZk8-xzgZC"
      }
    },
    {
      "cell_type": "markdown",
      "source": [
        "##### Perfil do Tipo de Convidado:"
      ],
      "metadata": {
        "id": "nsi8N3UzKEU2"
      }
    },
    {
      "cell_type": "code",
      "source": [
        "sem_cadastro_tipo_convidado = eventos[eventos['id'].isna()]\n",
        "tipos_convidados = sem_cadastro_tipo_convidado[['tipo','tipo_participacao']].value_counts().reset_index()\n",
        "display(tipos_convidados)"
      ],
      "metadata": {
        "id": "ge6v5g3CJsSj"
      },
      "execution_count": null,
      "outputs": []
    },
    {
      "cell_type": "markdown",
      "source": [
        "###### Entre os participantes sem cadastro, quais o cargos se destacam"
      ],
      "metadata": {
        "id": "WNeMyLNXTnD_"
      }
    },
    {
      "cell_type": "code",
      "source": [
        "cargos_sem_cadastro = sem_cadastro_tipo_convidado[['cargo', 'efetuou_checkin']].groupby('cargo').count()\\\n",
        ".sort_values(by='efetuou_checkin', ascending=False)\n",
        "display(cargos_sem_cadastro)\n",
        "# utilizamos a coluna \"efetuou checkin\" somente para a contagem, já que está toda preenchida"
      ],
      "metadata": {
        "id": "93p8jFkvV5JA"
      },
      "execution_count": null,
      "outputs": []
    },
    {
      "cell_type": "markdown",
      "source": [
        "###### Entre os participantes sem cadastro, qual o nível hieráquico mais se destaca"
      ],
      "metadata": {
        "id": "iyEsaGmkUA0O"
      }
    },
    {
      "cell_type": "code",
      "source": [
        "nivel_hierar_sem_cadastro = sem_cadastro_tipo_convidado[['nivel_hierarquico', 'efetuou_checkin']].groupby('nivel_hierarquico').count()\\\n",
        ".sort_values(by='efetuou_checkin', ascending=False)\n",
        "display(nivel_hierar_sem_cadastro)"
      ],
      "metadata": {
        "id": "BSXGmPaKWovo"
      },
      "execution_count": null,
      "outputs": []
    },
    {
      "cell_type": "markdown",
      "source": [
        "###### Entre os participantes sem cadastro, qual área de atuação mais se destaca"
      ],
      "metadata": {
        "id": "nuejD4csUB1I"
      }
    },
    {
      "cell_type": "code",
      "source": [
        "area_atu_sem_cadastro = sem_cadastro_tipo_convidado[['area_atuacao', 'efetuou_checkin']].groupby('area_atuacao').count()\\\n",
        ".sort_values(by='efetuou_checkin', ascending=False)\n",
        "display(area_atu_sem_cadastro)"
      ],
      "metadata": {
        "id": "tBTY-OstW7z3"
      },
      "execution_count": null,
      "outputs": []
    },
    {
      "cell_type": "markdown",
      "source": [
        "###### Entre os participantes sem cadastro, qual segmento mais se destaca"
      ],
      "metadata": {
        "id": "IR_h3lmCUUIe"
      }
    },
    {
      "cell_type": "code",
      "source": [
        "segmento_sem_cadastro = sem_cadastro_tipo_convidado[['segmento_empresa', 'efetuou_checkin']].groupby('segmento_empresa').count()\\\n",
        ".sort_values(by='efetuou_checkin', ascending=False)\n",
        "display(segmento_sem_cadastro)"
      ],
      "metadata": {
        "id": "7qa9wkEeTfTo"
      },
      "execution_count": null,
      "outputs": []
    },
    {
      "cell_type": "markdown",
      "source": [
        "##### Situação do Convite"
      ],
      "metadata": {
        "id": "E2LGXT7bKkq3"
      }
    },
    {
      "cell_type": "code",
      "source": [
        "sem_cadastro_tipo_convite = eventos[eventos['id'].isna()]\n",
        "tipos_convites = sem_cadastro_tipo_convite['situacao_convite'].value_counts().reset_index()\n",
        "display(tipos_convites)\n",
        "\n",
        "#Colocar somente os confirmados e não confirmados (fazer uma pizza)\n",
        "# Todos que não são confirmados=independente do tipo de não confirmação"
      ],
      "metadata": {
        "id": "PhndJMOKKnaU"
      },
      "execution_count": null,
      "outputs": []
    },
    {
      "cell_type": "code",
      "source": [
        "sem_cadastro_tipo_convite = eventos[eventos['id'].isna()]\n",
        "sem_cadastro_tipo_convite['situacao_convite_ajustada'] = sem_cadastro_tipo_convite['situacao_convite'].apply(\n",
        "    lambda x: 'não confirmado' if x != 'Confirmado' else 'Confirmado'\n",
        ")\n",
        "tipos_convites = sem_cadastro_tipo_convite['situacao_convite_ajustada'].value_counts().reset_index()\n",
        "display(tipos_convites)\n"
      ],
      "metadata": {
        "id": "7oZwCzhBnu7k"
      },
      "execution_count": null,
      "outputs": []
    },
    {
      "cell_type": "code",
      "source": [
        "# Renomear os valores da coluna 'situacao_convite'\n",
        "sem_cadastro_tipo_convite['situacao_convite_ajustada'] = sem_cadastro_tipo_convite['situacao_convite'].apply(\n",
        "    lambda x: 'não confirmado' if x != 'Confirmado' else 'Confirmado'\n",
        ")\n",
        "\n",
        "# Contar os valores únicos da coluna renomeada\n",
        "contagem_convites = sem_cadastro_tipo_convite['situacao_convite_ajustada'].value_counts()\n",
        "\n",
        "# Criar um gráfico de pizza (você pode escolher o tipo de gráfico)\n",
        "plt.figure(figsize=(8, 6))\n",
        "plt.pie(contagem_convites, labels=contagem_convites.index, autopct='%1.1f%%', startangle=90)\n",
        "plt.title('Confirmações de Convites')\n",
        "plt.show()"
      ],
      "metadata": {
        "id": "KIi94eqi57-H"
      },
      "execution_count": null,
      "outputs": []
    },
    {
      "cell_type": "code",
      "source": [
        "# Atualizar o gráfico acima somente com as duas categorias:confirmados e não confirmados"
      ],
      "metadata": {
        "id": "paxYYyP8Eoq0"
      },
      "execution_count": null,
      "outputs": []
    },
    {
      "cell_type": "markdown",
      "source": [
        "#### 7 - Dentre os convidados sem cadastro, quantos fizeram Check In"
      ],
      "metadata": {
        "id": "tj_dsQpzteGR"
      }
    },
    {
      "cell_type": "code",
      "source": [
        "sem_cadastro_checkin = eventos[eventos['id'].isna()]\n",
        "\n",
        "resultado = (\n",
        "    sem_cadastro_checkin.groupby(['efetuou_checkin'])\n",
        "    .size()  # Conta o número de ocorrências\n",
        "    .reset_index(name='quantidade')  # Renomeia a coluna resultante\n",
        ")\n",
        "\n",
        "display(resultado)\n",
        "\n",
        "\n",
        "# Fazer pizza"
      ],
      "metadata": {
        "id": "NqMImcPWu9Tf"
      },
      "execution_count": null,
      "outputs": []
    },
    {
      "cell_type": "markdown",
      "source": [
        "#### 8 -  Entre os convidantes quais tiveram maior retorno de check in?"
      ],
      "metadata": {
        "id": "zs0VWRK_I7lj"
      }
    },
    {
      "cell_type": "code",
      "source": [
        "total_convidantes_grupo = eventos[['efetuou_checkin', 'convidante_nome']].groupby('convidante_nome').count()\\\n",
        ".sort_values(by='efetuou_checkin', ascending=False)\n",
        "display(total_convidantes_grupo)"
      ],
      "metadata": {
        "id": "S7jrbghDjPUf"
      },
      "execution_count": null,
      "outputs": []
    },
    {
      "cell_type": "code",
      "source": [
        "convidado_convidante_sim = (\n",
        "    eventos[eventos['efetuou_checkin'] == 'Sim']  # Filtrar apenas check_in == 'Sim'\n",
        "    .groupby(['convidante_nome', 'tipo_participacao'])\n",
        "    .size()  # Conta as ocorrências para cada combinação\n",
        "    .reset_index(name='quantidade')  # Renomear a coluna de contagem\n",
        ").sort_values(by='quantidade', ascending=False)\n",
        "\n",
        "# Exibir o DataFrame resultante\n",
        "display(convidado_convidante_sim)"
      ],
      "metadata": {
        "id": "iXT7VDacmCjY"
      },
      "execution_count": null,
      "outputs": []
    },
    {
      "cell_type": "code",
      "source": [
        "import matplotlib.pyplot as plt\n",
        "import pandas as pd\n",
        "\n",
        "# Limpar e padronizar os dados de 'efetou_checkin' e 'convidante_nome'\n",
        "eventos['efetuou_checkin'] = eventos['efetuou_checkin'].str.strip().str.lower()\n",
        "\n",
        "# Agrupar por 'convidante_nome' e contar total, 'sim' e 'não'\n",
        "total_convidantes_grupo = eventos.groupby(['convidante_nome', 'efetuou_checkin']).size().unstack(fill_value=0)\n",
        "\n",
        "# Renomear colunas para clareza\n",
        "total_convidantes_grupo.columns = ['Nao', 'Sim']\n",
        "\n",
        "# Adicionar uma coluna para o total geral por convidante\n",
        "total_convidantes_grupo['Total'] = total_convidantes_grupo['Nao'] + total_convidantes_grupo['Sim']\n",
        "\n",
        "# Ordenar pelo total de check-ins\n",
        "total_convidantes_grupo = total_convidantes_grupo.sort_values(by='Sim', ascending=False)\n",
        "\n",
        "# Calcular as proporções\n",
        "total_convidantes_grupo['Proporção Sim (%)'] = (total_convidantes_grupo['Sim'] / total_convidantes_grupo['Total']) * 100\n",
        "total_convidantes_grupo['Proporção Não (%)'] = (total_convidantes_grupo['Nao'] / total_convidantes_grupo['Total']) * 100\n",
        "\n",
        "# Selecionar os 3 maiores em proporção \"Sim\" e \"Não\"\n",
        "top3_sim = total_convidantes_grupo.nlargest(3, 'Proporção Sim (%)')\n",
        "top3_nao = total_convidantes_grupo.nlargest(3, 'Proporção Não (%)')\n",
        "\n",
        "# Consolidar os dados em um DataFrame para o gráfico\n",
        "top3_checkin = pd.DataFrame({\n",
        "    'Proporção Sim (%)': top3_sim['Proporção Sim (%)'],\n",
        "    'Proporção Não (%)': top3_nao['Proporção Não (%)']\n",
        "}).fillna(0)\n",
        "\n",
        "# Criar o gráfico de barras\n",
        "plt.figure(figsize=(12, 8))\n",
        "top3_checkin.plot(kind='bar', stacked=False, colormap='coolwarm', figsize=(12, 6))\n",
        "\n",
        "# Adicionar título e rótulos\n",
        "plt.title('Proporção entre Convidante Nome e Efetuação de Check-in (Top 3 Sim e Top 3 Não)')\n",
        "plt.ylabel('Proporção (%)')\n",
        "plt.xlabel('Convidante Nome')\n",
        "\n",
        "# Exibir o gráfico\n",
        "plt.show()\n",
        "\n",
        "# Exibir o DataFrame com o total por convidante\n",
        "display(total_convidantes_grupo)\n"
      ],
      "metadata": {
        "id": "uhwZ2FfRJOyS"
      },
      "execution_count": null,
      "outputs": []
    },
    {
      "cell_type": "code",
      "source": [
        "# Limpar e padronizar os dados de 'efetou_checkin' e 'convidante_nome'\n",
        "eventos['efetuou_checkin'] = eventos['efetuou_checkin'].str.strip().str.lower()\n",
        "\n",
        "# Calcula as frequências e contagens para 'efetuou_checkin' e 'convidante_nome'\n",
        "total_por_convidante_nome = eventos['convidante_nome'].value_counts()\n",
        "sim_por_convidante_nome = eventos[eventos['efetuou_checkin'] == 'sim']['convidante_nome'].value_counts()\n",
        "nao_por_convidante_nome = eventos[eventos['efetuou_checkin'] == 'não']['convidante_nome'].value_counts()\n",
        "\n",
        "# Calcula a proporção de \"sim\" e \"não\" por convidante_nome\n",
        "prop_sim_por_convidante_nome = (sim_por_convidante_nome / total_por_convidante_nome) * 100\n",
        "prop_nao_por_convidante_nome = (nao_por_convidante_nome / total_por_convidante_nome) * 100\n",
        "\n",
        "# Cria o DataFrame consolidado com as proporções\n",
        "tabela_convidante_checkin = pd.DataFrame({\n",
        "    'quant_total': total_por_convidante_nome,\n",
        "    'quant_sim': sim_por_convidante_nome,\n",
        "    'quant_nao': nao_por_convidante_nome,\n",
        "    'prop_sim_%': prop_sim_por_convidante_nome,\n",
        "    'prop_nao_%': prop_nao_por_convidante_nome\n",
        "})\n",
        "\n",
        "# Preenche valores NaN com 0\n",
        "tabela_convidante_checkin = tabela_convidante_checkin.fillna(0).sort_values(by='quant_total', ascending=False)\n",
        "\n",
        "# Adiciona uma linha com os totais\n",
        "tabela_convidante_checkin.loc['Total'] = [\n",
        "    total_por_convidante_nome.sum(),\n",
        "    sim_por_convidante_nome.sum(),\n",
        "    nao_por_convidante_nome.sum(),\n",
        "    (sim_por_convidante_nome.sum() / total_por_convidante_nome.sum()) * 100,\n",
        "    (nao_por_convidante_nome.sum() / total_por_convidante_nome.sum()) * 100\n",
        "]\n",
        "\n",
        "# Exibe a tabela\n",
        "display(tabela_convidante_checkin)"
      ],
      "metadata": {
        "id": "Vhcq4dR4qB_7"
      },
      "execution_count": null,
      "outputs": []
    },
    {
      "cell_type": "markdown",
      "source": [
        "#### 9 - Dos participantes que foram convidados, qual a proporção do tipo de participação (Seminário, Caboré, Convidado)?\n"
      ],
      "metadata": {
        "id": "jrUk5rt84ZDd"
      }
    },
    {
      "cell_type": "code",
      "source": [
        "tipos_convidados_geral = eventos[['tipo','tipo_participacao']].value_counts().reset_index()\n",
        "display(tipos_convidados_geral)"
      ],
      "metadata": {
        "id": "0FV9Acxf4ueb"
      },
      "execution_count": null,
      "outputs": []
    },
    {
      "cell_type": "code",
      "source": [
        "import matplotlib.pyplot as plt\n",
        "\n",
        "# Renomear colunas para facilitar o uso\n",
        "tipos_convidados_geral.columns = ['tipo', 'tipo_participacao', 'frequencia']\n",
        "\n",
        "# Ordenar por frequência e pegar o Top 5\n",
        "top5 = tipos_convidados_geral.sort_values(by='frequencia', ascending=False).head(6)\n",
        "\n",
        "# Calcular a porcentagem\n",
        "top5['percentual'] = (top5['frequencia'] / top5['frequencia'].sum()) * 100\n",
        "\n",
        "# Criar o gráfico\n",
        "plt.figure(figsize=(10, 6))\n",
        "plt.barh(top5['tipo'] + ' - ' + top5['tipo_participacao'], top5['percentual'], color='skyblue')\n",
        "plt.xlabel('Porcentagem (%)')\n",
        "plt.title('Top 5 Tipos de Convidados por Participação')\n",
        "plt.gca().invert_yaxis()  # Inverter a ordem do eixo Y para mostrar o mais frequente no topo\n",
        "plt.show()\n"
      ],
      "metadata": {
        "id": "5GN2cxC__B_8"
      },
      "execution_count": null,
      "outputs": []
    },
    {
      "cell_type": "markdown",
      "source": [
        "#### 10 - Entre os assinantes, quantos utilizam o benefício do Digital Pass?"
      ],
      "metadata": {
        "id": "DQMO_zsK5f_M"
      }
    },
    {
      "cell_type": "code",
      "source": [
        "perfil_id_digitalpass = pd.merge(\n",
        "    perfil_id,\n",
        "    digitalpass,\n",
        "    on=['id','cargo','segmento_empresa', 'area_atuacao'],\n",
        "    how='inner'\n",
        ")\n",
        "display(perfil_id_digitalpass)"
      ],
      "metadata": {
        "id": "u2eJMgCmZMLS"
      },
      "execution_count": null,
      "outputs": []
    },
    {
      "cell_type": "code",
      "source": [
        "perfil_id_digitalpass = perfil_id_digitalpass[perfil_id_digitalpass['assinatura'] != 'Sem Assinatura']\n",
        "display(perfil_id_digitalpass)"
      ],
      "metadata": {
        "id": "0az9wQWOZdRl"
      },
      "execution_count": null,
      "outputs": []
    },
    {
      "cell_type": "code",
      "source": [
        "perfil_id_digitalpass['id'].count()"
      ],
      "metadata": {
        "id": "wWmAQE3Ibqjm"
      },
      "execution_count": null,
      "outputs": []
    },
    {
      "cell_type": "markdown",
      "source": [
        "#Importação para a Big Query"
      ],
      "metadata": {
        "id": "3GMd8HjZA9m9"
      }
    },
    {
      "cell_type": "code",
      "source": [
        "from google.colab import files\n",
        "from google.cloud import bigquery\n",
        "from google.colab import auth\n",
        "\n",
        "\n",
        "# Autenticar no Google Cloud\n",
        "auth.authenticate_user()\n",
        "\n",
        "# Criar o cliente do BigQuery\n",
        "client = bigquery.Client()\n",
        "\n",
        "# Definir o ID do projeto e o ID da tabela\n",
        "project_id = 'OCULTO'\n",
        "table_id = 'OCULTO.mm.perfil_id'\n",
        "\n",
        "# Enviar o DataFrame para o BigQuery\n",
        "perfil_id.to_gbq(table_id, project_id=project_id, if_exists='replace')"
      ],
      "metadata": {
        "id": "l4K5cY2EA_PO"
      },
      "execution_count": null,
      "outputs": []
    },
    {
      "cell_type": "code",
      "source": [
        "from google.colab import files\n",
        "from google.cloud import bigquery\n",
        "from google.colab import auth\n",
        "\n",
        "\n",
        "# Autenticar no Google Cloud\n",
        "auth.authenticate_user()\n",
        "\n",
        "# Criar o cliente do BigQuery\n",
        "client = bigquery.Client()\n",
        "\n",
        "# Definir o ID do projeto e o ID da tabela\n",
        "project_id = 'OCULTO'\n",
        "table_id = 'OCULTO.mm.eventos'\n",
        "\n",
        "# Enviar o DataFrame para o BigQuery\n",
        "eventos.to_gbq(table_id, project_id=project_id, if_exists='replace')"
      ],
      "metadata": {
        "id": "Ex64iCXiBNwA"
      },
      "execution_count": null,
      "outputs": []
    },
    {
      "cell_type": "code",
      "source": [
        "from google.colab import files\n",
        "from google.cloud import bigquery\n",
        "from google.colab import auth\n",
        "\n",
        "\n",
        "# Autenticar no Google Cloud\n",
        "auth.authenticate_user()\n",
        "\n",
        "# Criar o cliente do BigQuery\n",
        "client = bigquery.Client()\n",
        "\n",
        "# Definir o ID do projeto e o ID da tabela\n",
        "project_id = 'OCULTO'\n",
        "table_id = 'OCULTO.mm.administradores'\n",
        "\n",
        "# Enviar o DataFrame para o BigQuery\n",
        "administradores.to_gbq(table_id, project_id=project_id, if_exists='replace')"
      ],
      "metadata": {
        "id": "Vykuu0HlBfCc"
      },
      "execution_count": null,
      "outputs": []
    },
    {
      "cell_type": "code",
      "source": [
        "from google.colab import files\n",
        "from google.cloud import bigquery\n",
        "from google.colab import auth\n",
        "\n",
        "\n",
        "# Autenticar no Google Cloud\n",
        "auth.authenticate_user()\n",
        "\n",
        "# Criar o cliente do BigQuery\n",
        "client = bigquery.Client()\n",
        "\n",
        "# Definir o ID do projeto e o ID da tabela\n",
        "project_id = 'OCULTO'\n",
        "table_id = 'OCULTO.mm.digitalpass'\n",
        "\n",
        "# Enviar o DataFrame para o BigQuery\n",
        "digitalpass.to_gbq(table_id, project_id=project_id, if_exists='replace')"
      ],
      "metadata": {
        "id": "p1hcjvs4Bj9Q"
      },
      "execution_count": null,
      "outputs": []
    },
    {
      "cell_type": "code",
      "source": [
        "from google.colab import files\n",
        "from google.cloud import bigquery\n",
        "from google.colab import auth\n",
        "\n",
        "\n",
        "# Autenticar no Google Cloud\n",
        "auth.authenticate_user()\n",
        "\n",
        "# Criar o cliente do BigQuery\n",
        "client = bigquery.Client()\n",
        "\n",
        "# Definir o ID do projeto e o ID da tabela\n",
        "project_id = 'OCULTO'\n",
        "table_id = 'OCULTO.mm.webinar'\n",
        "\n",
        "# Enviar o DataFrame para o BigQuery\n",
        "webinar.to_gbq(table_id, project_id=project_id, if_exists='replace')"
      ],
      "metadata": {
        "id": "jvmgr-2NB9xh"
      },
      "execution_count": null,
      "outputs": []
    },
    {
      "cell_type": "code",
      "source": [
        "from google.colab import files\n",
        "from google.cloud import bigquery\n",
        "from google.colab import auth\n",
        "\n",
        "\n",
        "# Autenticar no Google Cloud\n",
        "auth.authenticate_user()\n",
        "\n",
        "# Criar o cliente do BigQuery\n",
        "client = bigquery.Client()\n",
        "\n",
        "# Definir o ID do projeto e o ID da tabela\n",
        "project_id = 'OCULTO'\n",
        "table_id = 'OCULTO.mm.acervo'\n",
        "\n",
        "# Enviar o DataFrame para o BigQuery\n",
        "acervo.to_gbq(table_id, project_id=project_id, if_exists='replace')"
      ],
      "metadata": {
        "id": "yCl5o0X0CHWt"
      },
      "execution_count": null,
      "outputs": []
    },
    {
      "cell_type": "code",
      "source": [
        "from google.colab import files\n",
        "from google.cloud import bigquery\n",
        "from google.colab import auth\n",
        "\n",
        "\n",
        "# Autenticar no Google Cloud\n",
        "auth.authenticate_user()\n",
        "\n",
        "# Criar o cliente do BigQuery\n",
        "client = bigquery.Client()\n",
        "\n",
        "# Definir o ID do projeto e o ID da tabela\n",
        "project_id = 'OCULTO'\n",
        "table_id = 'OCULTO.mm.agencias'\n",
        "\n",
        "# Enviar o DataFrame para o BigQuery\n",
        "agencias.to_gbq(table_id, project_id=project_id, if_exists='replace')"
      ],
      "metadata": {
        "id": "nboRABl-CODF"
      },
      "execution_count": null,
      "outputs": []
    }
  ]
}